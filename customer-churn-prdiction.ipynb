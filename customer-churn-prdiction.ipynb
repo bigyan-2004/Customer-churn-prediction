{
 "cells": [
  {
   "cell_type": "code",
   "execution_count": 1,
   "id": "6af7a6cd",
   "metadata": {
    "_cell_guid": "b1076dfc-b9ad-4769-8c92-a6c4dae69d19",
    "_uuid": "8f2839f25d086af736a60e9eeb907d3b93b6e0e5",
    "execution": {
     "iopub.execute_input": "2025-09-08T06:15:09.209620Z",
     "iopub.status.busy": "2025-09-08T06:15:09.208919Z",
     "iopub.status.idle": "2025-09-08T06:15:10.974885Z",
     "shell.execute_reply": "2025-09-08T06:15:10.973910Z"
    },
    "papermill": {
     "duration": 1.776395,
     "end_time": "2025-09-08T06:15:10.976441",
     "exception": false,
     "start_time": "2025-09-08T06:15:09.200046",
     "status": "completed"
    },
    "tags": []
   },
   "outputs": [
    {
     "name": "stdout",
     "output_type": "stream",
     "text": [
      "/kaggle/input/credit-card-customer-churn-prediction/Churn_Modelling.csv\n"
     ]
    }
   ],
   "source": [
    "# This Python 3 environment comes with many helpful analytics libraries installed\n",
    "# It is defined by the kaggle/python Docker image: https://github.com/kaggle/docker-python\n",
    "# For example, here's several helpful packages to load\n",
    "\n",
    "import numpy as np # linear algebra\n",
    "import pandas as pd # data processing, CSV file I/O (e.g. pd.read_csv)\n",
    "\n",
    "# Input data files are available in the read-only \"../input/\" directory\n",
    "# For example, running this (by clicking run or pressing Shift+Enter) will list all files under the input directory\n",
    "\n",
    "import os\n",
    "for dirname, _, filenames in os.walk('/kaggle/input'):\n",
    "    for filename in filenames:\n",
    "        print(os.path.join(dirname, filename))\n",
    "\n",
    "# You can write up to 20GB to the current directory (/kaggle/working/) that gets preserved as output when you create a version using \"Save & Run All\" \n",
    "# You can also write temporary files to /kaggle/temp/, but they won't be saved outside of the current session"
   ]
  },
  {
   "cell_type": "code",
   "execution_count": 2,
   "id": "101e5e52",
   "metadata": {
    "execution": {
     "iopub.execute_input": "2025-09-08T06:15:10.986862Z",
     "iopub.status.busy": "2025-09-08T06:15:10.986410Z",
     "iopub.status.idle": "2025-09-08T06:15:11.032797Z",
     "shell.execute_reply": "2025-09-08T06:15:11.031954Z"
    },
    "papermill": {
     "duration": 0.053321,
     "end_time": "2025-09-08T06:15:11.034422",
     "exception": false,
     "start_time": "2025-09-08T06:15:10.981101",
     "status": "completed"
    },
    "tags": []
   },
   "outputs": [],
   "source": [
    "df=pd.read_csv('/kaggle/input/credit-card-customer-churn-prediction/Churn_Modelling.csv')"
   ]
  },
  {
   "cell_type": "code",
   "execution_count": 3,
   "id": "5f2158ec",
   "metadata": {
    "execution": {
     "iopub.execute_input": "2025-09-08T06:15:11.044115Z",
     "iopub.status.busy": "2025-09-08T06:15:11.043800Z",
     "iopub.status.idle": "2025-09-08T06:15:11.069565Z",
     "shell.execute_reply": "2025-09-08T06:15:11.068721Z"
    },
    "papermill": {
     "duration": 0.032272,
     "end_time": "2025-09-08T06:15:11.071090",
     "exception": false,
     "start_time": "2025-09-08T06:15:11.038818",
     "status": "completed"
    },
    "tags": []
   },
   "outputs": [
    {
     "data": {
      "text/html": [
       "<div>\n",
       "<style scoped>\n",
       "    .dataframe tbody tr th:only-of-type {\n",
       "        vertical-align: middle;\n",
       "    }\n",
       "\n",
       "    .dataframe tbody tr th {\n",
       "        vertical-align: top;\n",
       "    }\n",
       "\n",
       "    .dataframe thead th {\n",
       "        text-align: right;\n",
       "    }\n",
       "</style>\n",
       "<table border=\"1\" class=\"dataframe\">\n",
       "  <thead>\n",
       "    <tr style=\"text-align: right;\">\n",
       "      <th></th>\n",
       "      <th>RowNumber</th>\n",
       "      <th>CustomerId</th>\n",
       "      <th>Surname</th>\n",
       "      <th>CreditScore</th>\n",
       "      <th>Geography</th>\n",
       "      <th>Gender</th>\n",
       "      <th>Age</th>\n",
       "      <th>Tenure</th>\n",
       "      <th>Balance</th>\n",
       "      <th>NumOfProducts</th>\n",
       "      <th>HasCrCard</th>\n",
       "      <th>IsActiveMember</th>\n",
       "      <th>EstimatedSalary</th>\n",
       "      <th>Exited</th>\n",
       "    </tr>\n",
       "  </thead>\n",
       "  <tbody>\n",
       "    <tr>\n",
       "      <th>0</th>\n",
       "      <td>1</td>\n",
       "      <td>15634602</td>\n",
       "      <td>Hargrave</td>\n",
       "      <td>619</td>\n",
       "      <td>France</td>\n",
       "      <td>Female</td>\n",
       "      <td>42</td>\n",
       "      <td>2</td>\n",
       "      <td>0.00</td>\n",
       "      <td>1</td>\n",
       "      <td>1</td>\n",
       "      <td>1</td>\n",
       "      <td>101348.88</td>\n",
       "      <td>1</td>\n",
       "    </tr>\n",
       "    <tr>\n",
       "      <th>1</th>\n",
       "      <td>2</td>\n",
       "      <td>15647311</td>\n",
       "      <td>Hill</td>\n",
       "      <td>608</td>\n",
       "      <td>Spain</td>\n",
       "      <td>Female</td>\n",
       "      <td>41</td>\n",
       "      <td>1</td>\n",
       "      <td>83807.86</td>\n",
       "      <td>1</td>\n",
       "      <td>0</td>\n",
       "      <td>1</td>\n",
       "      <td>112542.58</td>\n",
       "      <td>0</td>\n",
       "    </tr>\n",
       "    <tr>\n",
       "      <th>2</th>\n",
       "      <td>3</td>\n",
       "      <td>15619304</td>\n",
       "      <td>Onio</td>\n",
       "      <td>502</td>\n",
       "      <td>France</td>\n",
       "      <td>Female</td>\n",
       "      <td>42</td>\n",
       "      <td>8</td>\n",
       "      <td>159660.80</td>\n",
       "      <td>3</td>\n",
       "      <td>1</td>\n",
       "      <td>0</td>\n",
       "      <td>113931.57</td>\n",
       "      <td>1</td>\n",
       "    </tr>\n",
       "    <tr>\n",
       "      <th>3</th>\n",
       "      <td>4</td>\n",
       "      <td>15701354</td>\n",
       "      <td>Boni</td>\n",
       "      <td>699</td>\n",
       "      <td>France</td>\n",
       "      <td>Female</td>\n",
       "      <td>39</td>\n",
       "      <td>1</td>\n",
       "      <td>0.00</td>\n",
       "      <td>2</td>\n",
       "      <td>0</td>\n",
       "      <td>0</td>\n",
       "      <td>93826.63</td>\n",
       "      <td>0</td>\n",
       "    </tr>\n",
       "    <tr>\n",
       "      <th>4</th>\n",
       "      <td>5</td>\n",
       "      <td>15737888</td>\n",
       "      <td>Mitchell</td>\n",
       "      <td>850</td>\n",
       "      <td>Spain</td>\n",
       "      <td>Female</td>\n",
       "      <td>43</td>\n",
       "      <td>2</td>\n",
       "      <td>125510.82</td>\n",
       "      <td>1</td>\n",
       "      <td>1</td>\n",
       "      <td>1</td>\n",
       "      <td>79084.10</td>\n",
       "      <td>0</td>\n",
       "    </tr>\n",
       "  </tbody>\n",
       "</table>\n",
       "</div>"
      ],
      "text/plain": [
       "   RowNumber  CustomerId   Surname  CreditScore Geography  Gender  Age  \\\n",
       "0          1    15634602  Hargrave          619    France  Female   42   \n",
       "1          2    15647311      Hill          608     Spain  Female   41   \n",
       "2          3    15619304      Onio          502    France  Female   42   \n",
       "3          4    15701354      Boni          699    France  Female   39   \n",
       "4          5    15737888  Mitchell          850     Spain  Female   43   \n",
       "\n",
       "   Tenure    Balance  NumOfProducts  HasCrCard  IsActiveMember  \\\n",
       "0       2       0.00              1          1               1   \n",
       "1       1   83807.86              1          0               1   \n",
       "2       8  159660.80              3          1               0   \n",
       "3       1       0.00              2          0               0   \n",
       "4       2  125510.82              1          1               1   \n",
       "\n",
       "   EstimatedSalary  Exited  \n",
       "0        101348.88       1  \n",
       "1        112542.58       0  \n",
       "2        113931.57       1  \n",
       "3         93826.63       0  \n",
       "4         79084.10       0  "
      ]
     },
     "execution_count": 3,
     "metadata": {},
     "output_type": "execute_result"
    }
   ],
   "source": [
    "df.head()"
   ]
  },
  {
   "cell_type": "code",
   "execution_count": 4,
   "id": "3f9ef282",
   "metadata": {
    "execution": {
     "iopub.execute_input": "2025-09-08T06:15:11.082095Z",
     "iopub.status.busy": "2025-09-08T06:15:11.081347Z",
     "iopub.status.idle": "2025-09-08T06:15:11.110095Z",
     "shell.execute_reply": "2025-09-08T06:15:11.108944Z"
    },
    "papermill": {
     "duration": 0.036144,
     "end_time": "2025-09-08T06:15:11.111930",
     "exception": false,
     "start_time": "2025-09-08T06:15:11.075786",
     "status": "completed"
    },
    "tags": []
   },
   "outputs": [
    {
     "name": "stdout",
     "output_type": "stream",
     "text": [
      "<class 'pandas.core.frame.DataFrame'>\n",
      "RangeIndex: 10000 entries, 0 to 9999\n",
      "Data columns (total 14 columns):\n",
      " #   Column           Non-Null Count  Dtype  \n",
      "---  ------           --------------  -----  \n",
      " 0   RowNumber        10000 non-null  int64  \n",
      " 1   CustomerId       10000 non-null  int64  \n",
      " 2   Surname          10000 non-null  object \n",
      " 3   CreditScore      10000 non-null  int64  \n",
      " 4   Geography        10000 non-null  object \n",
      " 5   Gender           10000 non-null  object \n",
      " 6   Age              10000 non-null  int64  \n",
      " 7   Tenure           10000 non-null  int64  \n",
      " 8   Balance          10000 non-null  float64\n",
      " 9   NumOfProducts    10000 non-null  int64  \n",
      " 10  HasCrCard        10000 non-null  int64  \n",
      " 11  IsActiveMember   10000 non-null  int64  \n",
      " 12  EstimatedSalary  10000 non-null  float64\n",
      " 13  Exited           10000 non-null  int64  \n",
      "dtypes: float64(2), int64(9), object(3)\n",
      "memory usage: 1.1+ MB\n"
     ]
    }
   ],
   "source": [
    "df.info()"
   ]
  },
  {
   "cell_type": "code",
   "execution_count": 5,
   "id": "d51083ce",
   "metadata": {
    "execution": {
     "iopub.execute_input": "2025-09-08T06:15:11.123309Z",
     "iopub.status.busy": "2025-09-08T06:15:11.122210Z",
     "iopub.status.idle": "2025-09-08T06:15:11.130993Z",
     "shell.execute_reply": "2025-09-08T06:15:11.130145Z"
    },
    "papermill": {
     "duration": 0.015797,
     "end_time": "2025-09-08T06:15:11.132437",
     "exception": false,
     "start_time": "2025-09-08T06:15:11.116640",
     "status": "completed"
    },
    "tags": []
   },
   "outputs": [],
   "source": [
    "df.drop(columns=['RowNumber','CustomerId','Surname'],inplace=True)"
   ]
  },
  {
   "cell_type": "code",
   "execution_count": 6,
   "id": "355fc167",
   "metadata": {
    "execution": {
     "iopub.execute_input": "2025-09-08T06:15:11.143092Z",
     "iopub.status.busy": "2025-09-08T06:15:11.142795Z",
     "iopub.status.idle": "2025-09-08T06:15:11.155297Z",
     "shell.execute_reply": "2025-09-08T06:15:11.154149Z"
    },
    "papermill": {
     "duration": 0.019415,
     "end_time": "2025-09-08T06:15:11.156572",
     "exception": false,
     "start_time": "2025-09-08T06:15:11.137157",
     "status": "completed"
    },
    "tags": []
   },
   "outputs": [
    {
     "data": {
      "text/html": [
       "<div>\n",
       "<style scoped>\n",
       "    .dataframe tbody tr th:only-of-type {\n",
       "        vertical-align: middle;\n",
       "    }\n",
       "\n",
       "    .dataframe tbody tr th {\n",
       "        vertical-align: top;\n",
       "    }\n",
       "\n",
       "    .dataframe thead th {\n",
       "        text-align: right;\n",
       "    }\n",
       "</style>\n",
       "<table border=\"1\" class=\"dataframe\">\n",
       "  <thead>\n",
       "    <tr style=\"text-align: right;\">\n",
       "      <th></th>\n",
       "      <th>CreditScore</th>\n",
       "      <th>Geography</th>\n",
       "      <th>Gender</th>\n",
       "      <th>Age</th>\n",
       "      <th>Tenure</th>\n",
       "      <th>Balance</th>\n",
       "      <th>NumOfProducts</th>\n",
       "      <th>HasCrCard</th>\n",
       "      <th>IsActiveMember</th>\n",
       "      <th>EstimatedSalary</th>\n",
       "      <th>Exited</th>\n",
       "    </tr>\n",
       "  </thead>\n",
       "  <tbody>\n",
       "    <tr>\n",
       "      <th>0</th>\n",
       "      <td>619</td>\n",
       "      <td>France</td>\n",
       "      <td>Female</td>\n",
       "      <td>42</td>\n",
       "      <td>2</td>\n",
       "      <td>0.00</td>\n",
       "      <td>1</td>\n",
       "      <td>1</td>\n",
       "      <td>1</td>\n",
       "      <td>101348.88</td>\n",
       "      <td>1</td>\n",
       "    </tr>\n",
       "    <tr>\n",
       "      <th>1</th>\n",
       "      <td>608</td>\n",
       "      <td>Spain</td>\n",
       "      <td>Female</td>\n",
       "      <td>41</td>\n",
       "      <td>1</td>\n",
       "      <td>83807.86</td>\n",
       "      <td>1</td>\n",
       "      <td>0</td>\n",
       "      <td>1</td>\n",
       "      <td>112542.58</td>\n",
       "      <td>0</td>\n",
       "    </tr>\n",
       "    <tr>\n",
       "      <th>2</th>\n",
       "      <td>502</td>\n",
       "      <td>France</td>\n",
       "      <td>Female</td>\n",
       "      <td>42</td>\n",
       "      <td>8</td>\n",
       "      <td>159660.80</td>\n",
       "      <td>3</td>\n",
       "      <td>1</td>\n",
       "      <td>0</td>\n",
       "      <td>113931.57</td>\n",
       "      <td>1</td>\n",
       "    </tr>\n",
       "    <tr>\n",
       "      <th>3</th>\n",
       "      <td>699</td>\n",
       "      <td>France</td>\n",
       "      <td>Female</td>\n",
       "      <td>39</td>\n",
       "      <td>1</td>\n",
       "      <td>0.00</td>\n",
       "      <td>2</td>\n",
       "      <td>0</td>\n",
       "      <td>0</td>\n",
       "      <td>93826.63</td>\n",
       "      <td>0</td>\n",
       "    </tr>\n",
       "    <tr>\n",
       "      <th>4</th>\n",
       "      <td>850</td>\n",
       "      <td>Spain</td>\n",
       "      <td>Female</td>\n",
       "      <td>43</td>\n",
       "      <td>2</td>\n",
       "      <td>125510.82</td>\n",
       "      <td>1</td>\n",
       "      <td>1</td>\n",
       "      <td>1</td>\n",
       "      <td>79084.10</td>\n",
       "      <td>0</td>\n",
       "    </tr>\n",
       "  </tbody>\n",
       "</table>\n",
       "</div>"
      ],
      "text/plain": [
       "   CreditScore Geography  Gender  Age  Tenure    Balance  NumOfProducts  \\\n",
       "0          619    France  Female   42       2       0.00              1   \n",
       "1          608     Spain  Female   41       1   83807.86              1   \n",
       "2          502    France  Female   42       8  159660.80              3   \n",
       "3          699    France  Female   39       1       0.00              2   \n",
       "4          850     Spain  Female   43       2  125510.82              1   \n",
       "\n",
       "   HasCrCard  IsActiveMember  EstimatedSalary  Exited  \n",
       "0          1               1        101348.88       1  \n",
       "1          0               1        112542.58       0  \n",
       "2          1               0        113931.57       1  \n",
       "3          0               0         93826.63       0  \n",
       "4          1               1         79084.10       0  "
      ]
     },
     "execution_count": 6,
     "metadata": {},
     "output_type": "execute_result"
    }
   ],
   "source": [
    "df.head()"
   ]
  },
  {
   "cell_type": "code",
   "execution_count": 7,
   "id": "a7d8ca1c",
   "metadata": {
    "execution": {
     "iopub.execute_input": "2025-09-08T06:15:11.167076Z",
     "iopub.status.busy": "2025-09-08T06:15:11.166788Z",
     "iopub.status.idle": "2025-09-08T06:15:11.178036Z",
     "shell.execute_reply": "2025-09-08T06:15:11.177207Z"
    },
    "papermill": {
     "duration": 0.018084,
     "end_time": "2025-09-08T06:15:11.179459",
     "exception": false,
     "start_time": "2025-09-08T06:15:11.161375",
     "status": "completed"
    },
    "tags": []
   },
   "outputs": [],
   "source": [
    "df=pd.get_dummies(df,columns=['Geography','Gender'],drop_first=True).astype(int)"
   ]
  },
  {
   "cell_type": "code",
   "execution_count": 8,
   "id": "c145f0d1",
   "metadata": {
    "execution": {
     "iopub.execute_input": "2025-09-08T06:15:11.190822Z",
     "iopub.status.busy": "2025-09-08T06:15:11.190463Z",
     "iopub.status.idle": "2025-09-08T06:15:11.203024Z",
     "shell.execute_reply": "2025-09-08T06:15:11.202176Z"
    },
    "papermill": {
     "duration": 0.020237,
     "end_time": "2025-09-08T06:15:11.204482",
     "exception": false,
     "start_time": "2025-09-08T06:15:11.184245",
     "status": "completed"
    },
    "tags": []
   },
   "outputs": [
    {
     "data": {
      "text/html": [
       "<div>\n",
       "<style scoped>\n",
       "    .dataframe tbody tr th:only-of-type {\n",
       "        vertical-align: middle;\n",
       "    }\n",
       "\n",
       "    .dataframe tbody tr th {\n",
       "        vertical-align: top;\n",
       "    }\n",
       "\n",
       "    .dataframe thead th {\n",
       "        text-align: right;\n",
       "    }\n",
       "</style>\n",
       "<table border=\"1\" class=\"dataframe\">\n",
       "  <thead>\n",
       "    <tr style=\"text-align: right;\">\n",
       "      <th></th>\n",
       "      <th>CreditScore</th>\n",
       "      <th>Age</th>\n",
       "      <th>Tenure</th>\n",
       "      <th>Balance</th>\n",
       "      <th>NumOfProducts</th>\n",
       "      <th>HasCrCard</th>\n",
       "      <th>IsActiveMember</th>\n",
       "      <th>EstimatedSalary</th>\n",
       "      <th>Exited</th>\n",
       "      <th>Geography_Germany</th>\n",
       "      <th>Geography_Spain</th>\n",
       "      <th>Gender_Male</th>\n",
       "    </tr>\n",
       "  </thead>\n",
       "  <tbody>\n",
       "    <tr>\n",
       "      <th>0</th>\n",
       "      <td>619</td>\n",
       "      <td>42</td>\n",
       "      <td>2</td>\n",
       "      <td>0</td>\n",
       "      <td>1</td>\n",
       "      <td>1</td>\n",
       "      <td>1</td>\n",
       "      <td>101348</td>\n",
       "      <td>1</td>\n",
       "      <td>0</td>\n",
       "      <td>0</td>\n",
       "      <td>0</td>\n",
       "    </tr>\n",
       "    <tr>\n",
       "      <th>1</th>\n",
       "      <td>608</td>\n",
       "      <td>41</td>\n",
       "      <td>1</td>\n",
       "      <td>83807</td>\n",
       "      <td>1</td>\n",
       "      <td>0</td>\n",
       "      <td>1</td>\n",
       "      <td>112542</td>\n",
       "      <td>0</td>\n",
       "      <td>0</td>\n",
       "      <td>1</td>\n",
       "      <td>0</td>\n",
       "    </tr>\n",
       "    <tr>\n",
       "      <th>2</th>\n",
       "      <td>502</td>\n",
       "      <td>42</td>\n",
       "      <td>8</td>\n",
       "      <td>159660</td>\n",
       "      <td>3</td>\n",
       "      <td>1</td>\n",
       "      <td>0</td>\n",
       "      <td>113931</td>\n",
       "      <td>1</td>\n",
       "      <td>0</td>\n",
       "      <td>0</td>\n",
       "      <td>0</td>\n",
       "    </tr>\n",
       "    <tr>\n",
       "      <th>3</th>\n",
       "      <td>699</td>\n",
       "      <td>39</td>\n",
       "      <td>1</td>\n",
       "      <td>0</td>\n",
       "      <td>2</td>\n",
       "      <td>0</td>\n",
       "      <td>0</td>\n",
       "      <td>93826</td>\n",
       "      <td>0</td>\n",
       "      <td>0</td>\n",
       "      <td>0</td>\n",
       "      <td>0</td>\n",
       "    </tr>\n",
       "    <tr>\n",
       "      <th>4</th>\n",
       "      <td>850</td>\n",
       "      <td>43</td>\n",
       "      <td>2</td>\n",
       "      <td>125510</td>\n",
       "      <td>1</td>\n",
       "      <td>1</td>\n",
       "      <td>1</td>\n",
       "      <td>79084</td>\n",
       "      <td>0</td>\n",
       "      <td>0</td>\n",
       "      <td>1</td>\n",
       "      <td>0</td>\n",
       "    </tr>\n",
       "    <tr>\n",
       "      <th>...</th>\n",
       "      <td>...</td>\n",
       "      <td>...</td>\n",
       "      <td>...</td>\n",
       "      <td>...</td>\n",
       "      <td>...</td>\n",
       "      <td>...</td>\n",
       "      <td>...</td>\n",
       "      <td>...</td>\n",
       "      <td>...</td>\n",
       "      <td>...</td>\n",
       "      <td>...</td>\n",
       "      <td>...</td>\n",
       "    </tr>\n",
       "    <tr>\n",
       "      <th>9995</th>\n",
       "      <td>771</td>\n",
       "      <td>39</td>\n",
       "      <td>5</td>\n",
       "      <td>0</td>\n",
       "      <td>2</td>\n",
       "      <td>1</td>\n",
       "      <td>0</td>\n",
       "      <td>96270</td>\n",
       "      <td>0</td>\n",
       "      <td>0</td>\n",
       "      <td>0</td>\n",
       "      <td>1</td>\n",
       "    </tr>\n",
       "    <tr>\n",
       "      <th>9996</th>\n",
       "      <td>516</td>\n",
       "      <td>35</td>\n",
       "      <td>10</td>\n",
       "      <td>57369</td>\n",
       "      <td>1</td>\n",
       "      <td>1</td>\n",
       "      <td>1</td>\n",
       "      <td>101699</td>\n",
       "      <td>0</td>\n",
       "      <td>0</td>\n",
       "      <td>0</td>\n",
       "      <td>1</td>\n",
       "    </tr>\n",
       "    <tr>\n",
       "      <th>9997</th>\n",
       "      <td>709</td>\n",
       "      <td>36</td>\n",
       "      <td>7</td>\n",
       "      <td>0</td>\n",
       "      <td>1</td>\n",
       "      <td>0</td>\n",
       "      <td>1</td>\n",
       "      <td>42085</td>\n",
       "      <td>1</td>\n",
       "      <td>0</td>\n",
       "      <td>0</td>\n",
       "      <td>0</td>\n",
       "    </tr>\n",
       "    <tr>\n",
       "      <th>9998</th>\n",
       "      <td>772</td>\n",
       "      <td>42</td>\n",
       "      <td>3</td>\n",
       "      <td>75075</td>\n",
       "      <td>2</td>\n",
       "      <td>1</td>\n",
       "      <td>0</td>\n",
       "      <td>92888</td>\n",
       "      <td>1</td>\n",
       "      <td>1</td>\n",
       "      <td>0</td>\n",
       "      <td>1</td>\n",
       "    </tr>\n",
       "    <tr>\n",
       "      <th>9999</th>\n",
       "      <td>792</td>\n",
       "      <td>28</td>\n",
       "      <td>4</td>\n",
       "      <td>130142</td>\n",
       "      <td>1</td>\n",
       "      <td>1</td>\n",
       "      <td>0</td>\n",
       "      <td>38190</td>\n",
       "      <td>0</td>\n",
       "      <td>0</td>\n",
       "      <td>0</td>\n",
       "      <td>0</td>\n",
       "    </tr>\n",
       "  </tbody>\n",
       "</table>\n",
       "<p>10000 rows × 12 columns</p>\n",
       "</div>"
      ],
      "text/plain": [
       "      CreditScore  Age  Tenure  Balance  NumOfProducts  HasCrCard  \\\n",
       "0             619   42       2        0              1          1   \n",
       "1             608   41       1    83807              1          0   \n",
       "2             502   42       8   159660              3          1   \n",
       "3             699   39       1        0              2          0   \n",
       "4             850   43       2   125510              1          1   \n",
       "...           ...  ...     ...      ...            ...        ...   \n",
       "9995          771   39       5        0              2          1   \n",
       "9996          516   35      10    57369              1          1   \n",
       "9997          709   36       7        0              1          0   \n",
       "9998          772   42       3    75075              2          1   \n",
       "9999          792   28       4   130142              1          1   \n",
       "\n",
       "      IsActiveMember  EstimatedSalary  Exited  Geography_Germany  \\\n",
       "0                  1           101348       1                  0   \n",
       "1                  1           112542       0                  0   \n",
       "2                  0           113931       1                  0   \n",
       "3                  0            93826       0                  0   \n",
       "4                  1            79084       0                  0   \n",
       "...              ...              ...     ...                ...   \n",
       "9995               0            96270       0                  0   \n",
       "9996               1           101699       0                  0   \n",
       "9997               1            42085       1                  0   \n",
       "9998               0            92888       1                  1   \n",
       "9999               0            38190       0                  0   \n",
       "\n",
       "      Geography_Spain  Gender_Male  \n",
       "0                   0            0  \n",
       "1                   1            0  \n",
       "2                   0            0  \n",
       "3                   0            0  \n",
       "4                   1            0  \n",
       "...               ...          ...  \n",
       "9995                0            1  \n",
       "9996                0            1  \n",
       "9997                0            0  \n",
       "9998                0            1  \n",
       "9999                0            0  \n",
       "\n",
       "[10000 rows x 12 columns]"
      ]
     },
     "execution_count": 8,
     "metadata": {},
     "output_type": "execute_result"
    }
   ],
   "source": [
    "df"
   ]
  },
  {
   "cell_type": "code",
   "execution_count": 9,
   "id": "4be99971",
   "metadata": {
    "execution": {
     "iopub.execute_input": "2025-09-08T06:15:11.216222Z",
     "iopub.status.busy": "2025-09-08T06:15:11.215923Z",
     "iopub.status.idle": "2025-09-08T06:15:11.225718Z",
     "shell.execute_reply": "2025-09-08T06:15:11.224833Z"
    },
    "papermill": {
     "duration": 0.017382,
     "end_time": "2025-09-08T06:15:11.227234",
     "exception": false,
     "start_time": "2025-09-08T06:15:11.209852",
     "status": "completed"
    },
    "tags": []
   },
   "outputs": [
    {
     "data": {
      "text/plain": [
       "0"
      ]
     },
     "execution_count": 9,
     "metadata": {},
     "output_type": "execute_result"
    }
   ],
   "source": [
    "df.duplicated().sum()"
   ]
  },
  {
   "cell_type": "code",
   "execution_count": 10,
   "id": "0e5fa16c",
   "metadata": {
    "execution": {
     "iopub.execute_input": "2025-09-08T06:15:11.238628Z",
     "iopub.status.busy": "2025-09-08T06:15:11.238327Z",
     "iopub.status.idle": "2025-09-08T06:15:11.244146Z",
     "shell.execute_reply": "2025-09-08T06:15:11.243235Z"
    },
    "papermill": {
     "duration": 0.013081,
     "end_time": "2025-09-08T06:15:11.245573",
     "exception": false,
     "start_time": "2025-09-08T06:15:11.232492",
     "status": "completed"
    },
    "tags": []
   },
   "outputs": [],
   "source": [
    "X=df.drop(columns=['Exited'])\n",
    "Y=df['Exited']"
   ]
  },
  {
   "cell_type": "code",
   "execution_count": 11,
   "id": "be91fc0c",
   "metadata": {
    "execution": {
     "iopub.execute_input": "2025-09-08T06:15:11.257516Z",
     "iopub.status.busy": "2025-09-08T06:15:11.256652Z",
     "iopub.status.idle": "2025-09-08T06:15:12.723515Z",
     "shell.execute_reply": "2025-09-08T06:15:12.722819Z"
    },
    "papermill": {
     "duration": 1.474424,
     "end_time": "2025-09-08T06:15:12.725184",
     "exception": false,
     "start_time": "2025-09-08T06:15:11.250760",
     "status": "completed"
    },
    "tags": []
   },
   "outputs": [],
   "source": [
    "from sklearn.model_selection import train_test_split\n",
    "X_train,X_test,Y_train,Y_test=train_test_split(X,Y,test_size=0.2,random_state=42)"
   ]
  },
  {
   "cell_type": "code",
   "execution_count": 12,
   "id": "9a3b90de",
   "metadata": {
    "execution": {
     "iopub.execute_input": "2025-09-08T06:15:12.737231Z",
     "iopub.status.busy": "2025-09-08T06:15:12.736487Z",
     "iopub.status.idle": "2025-09-08T06:15:12.776847Z",
     "shell.execute_reply": "2025-09-08T06:15:12.775943Z"
    },
    "papermill": {
     "duration": 0.048053,
     "end_time": "2025-09-08T06:15:12.778501",
     "exception": false,
     "start_time": "2025-09-08T06:15:12.730448",
     "status": "completed"
    },
    "tags": []
   },
   "outputs": [],
   "source": [
    "from sklearn.preprocessing import StandardScaler\n",
    "scaler=StandardScaler()\n",
    "\n",
    "X_train_scaled=scaler.fit_transform(X_train)\n",
    "X_test_scaled=scaler.transform(X_test)"
   ]
  },
  {
   "cell_type": "code",
   "execution_count": 13,
   "id": "8215576a",
   "metadata": {
    "execution": {
     "iopub.execute_input": "2025-09-08T06:15:12.790528Z",
     "iopub.status.busy": "2025-09-08T06:15:12.789638Z",
     "iopub.status.idle": "2025-09-08T06:15:27.947322Z",
     "shell.execute_reply": "2025-09-08T06:15:27.946528Z"
    },
    "papermill": {
     "duration": 15.16506,
     "end_time": "2025-09-08T06:15:27.948901",
     "exception": false,
     "start_time": "2025-09-08T06:15:12.783841",
     "status": "completed"
    },
    "tags": []
   },
   "outputs": [
    {
     "name": "stderr",
     "output_type": "stream",
     "text": [
      "2025-09-08 06:15:14.560082: E external/local_xla/xla/stream_executor/cuda/cuda_fft.cc:477] Unable to register cuFFT factory: Attempting to register factory for plugin cuFFT when one has already been registered\n",
      "WARNING: All log messages before absl::InitializeLog() is called are written to STDERR\n",
      "E0000 00:00:1757312114.772888      13 cuda_dnn.cc:8310] Unable to register cuDNN factory: Attempting to register factory for plugin cuDNN when one has already been registered\n",
      "E0000 00:00:1757312114.835812      13 cuda_blas.cc:1418] Unable to register cuBLAS factory: Attempting to register factory for plugin cuBLAS when one has already been registered\n"
     ]
    }
   ],
   "source": [
    "import tensorflow\n",
    "from tensorflow import keras\n",
    "from tensorflow.keras import Sequential\n",
    "from tensorflow.keras.layers import Dense"
   ]
  },
  {
   "cell_type": "code",
   "execution_count": 14,
   "id": "27e15494",
   "metadata": {
    "execution": {
     "iopub.execute_input": "2025-09-08T06:15:27.961054Z",
     "iopub.status.busy": "2025-09-08T06:15:27.960167Z",
     "iopub.status.idle": "2025-09-08T06:15:28.044429Z",
     "shell.execute_reply": "2025-09-08T06:15:28.043525Z"
    },
    "papermill": {
     "duration": 0.091869,
     "end_time": "2025-09-08T06:15:28.046116",
     "exception": false,
     "start_time": "2025-09-08T06:15:27.954247",
     "status": "completed"
    },
    "tags": []
   },
   "outputs": [
    {
     "name": "stderr",
     "output_type": "stream",
     "text": [
      "/usr/local/lib/python3.11/dist-packages/keras/src/layers/core/dense.py:87: UserWarning: Do not pass an `input_shape`/`input_dim` argument to a layer. When using Sequential models, prefer using an `Input(shape)` object as the first layer in the model instead.\n",
      "  super().__init__(activity_regularizer=activity_regularizer, **kwargs)\n",
      "2025-09-08 06:15:27.970438: E external/local_xla/xla/stream_executor/cuda/cuda_driver.cc:152] failed call to cuInit: INTERNAL: CUDA error: Failed call to cuInit: UNKNOWN ERROR (303)\n"
     ]
    }
   ],
   "source": [
    "model=Sequential()\n",
    "\n",
    "model.add(Dense(7,activation='relu',input_dim=11))\n",
    "model.add(Dense(3,activation='relu'))\n",
    "model.add(Dense(1,activation='sigmoid'))"
   ]
  },
  {
   "cell_type": "code",
   "execution_count": 15,
   "id": "fa8e93c2",
   "metadata": {
    "execution": {
     "iopub.execute_input": "2025-09-08T06:15:28.058068Z",
     "iopub.status.busy": "2025-09-08T06:15:28.057761Z",
     "iopub.status.idle": "2025-09-08T06:15:28.074064Z",
     "shell.execute_reply": "2025-09-08T06:15:28.073140Z"
    },
    "papermill": {
     "duration": 0.023816,
     "end_time": "2025-09-08T06:15:28.075409",
     "exception": false,
     "start_time": "2025-09-08T06:15:28.051593",
     "status": "completed"
    },
    "tags": []
   },
   "outputs": [
    {
     "data": {
      "text/html": [
       "<pre style=\"white-space:pre;overflow-x:auto;line-height:normal;font-family:Menlo,'DejaVu Sans Mono',consolas,'Courier New',monospace\"><span style=\"font-weight: bold\">Model: \"sequential\"</span>\n",
       "</pre>\n"
      ],
      "text/plain": [
       "\u001b[1mModel: \"sequential\"\u001b[0m\n"
      ]
     },
     "metadata": {},
     "output_type": "display_data"
    },
    {
     "data": {
      "text/html": [
       "<pre style=\"white-space:pre;overflow-x:auto;line-height:normal;font-family:Menlo,'DejaVu Sans Mono',consolas,'Courier New',monospace\">┏━━━━━━━━━━━━━━━━━━━━━━━━━━━━━━━━━┳━━━━━━━━━━━━━━━━━━━━━━━━┳━━━━━━━━━━━━━━━┓\n",
       "┃<span style=\"font-weight: bold\"> Layer (type)                    </span>┃<span style=\"font-weight: bold\"> Output Shape           </span>┃<span style=\"font-weight: bold\">       Param # </span>┃\n",
       "┡━━━━━━━━━━━━━━━━━━━━━━━━━━━━━━━━━╇━━━━━━━━━━━━━━━━━━━━━━━━╇━━━━━━━━━━━━━━━┩\n",
       "│ dense (<span style=\"color: #0087ff; text-decoration-color: #0087ff\">Dense</span>)                   │ (<span style=\"color: #00d7ff; text-decoration-color: #00d7ff\">None</span>, <span style=\"color: #00af00; text-decoration-color: #00af00\">7</span>)              │            <span style=\"color: #00af00; text-decoration-color: #00af00\">84</span> │\n",
       "├─────────────────────────────────┼────────────────────────┼───────────────┤\n",
       "│ dense_1 (<span style=\"color: #0087ff; text-decoration-color: #0087ff\">Dense</span>)                 │ (<span style=\"color: #00d7ff; text-decoration-color: #00d7ff\">None</span>, <span style=\"color: #00af00; text-decoration-color: #00af00\">3</span>)              │            <span style=\"color: #00af00; text-decoration-color: #00af00\">24</span> │\n",
       "├─────────────────────────────────┼────────────────────────┼───────────────┤\n",
       "│ dense_2 (<span style=\"color: #0087ff; text-decoration-color: #0087ff\">Dense</span>)                 │ (<span style=\"color: #00d7ff; text-decoration-color: #00d7ff\">None</span>, <span style=\"color: #00af00; text-decoration-color: #00af00\">1</span>)              │             <span style=\"color: #00af00; text-decoration-color: #00af00\">4</span> │\n",
       "└─────────────────────────────────┴────────────────────────┴───────────────┘\n",
       "</pre>\n"
      ],
      "text/plain": [
       "┏━━━━━━━━━━━━━━━━━━━━━━━━━━━━━━━━━┳━━━━━━━━━━━━━━━━━━━━━━━━┳━━━━━━━━━━━━━━━┓\n",
       "┃\u001b[1m \u001b[0m\u001b[1mLayer (type)                   \u001b[0m\u001b[1m \u001b[0m┃\u001b[1m \u001b[0m\u001b[1mOutput Shape          \u001b[0m\u001b[1m \u001b[0m┃\u001b[1m \u001b[0m\u001b[1m      Param #\u001b[0m\u001b[1m \u001b[0m┃\n",
       "┡━━━━━━━━━━━━━━━━━━━━━━━━━━━━━━━━━╇━━━━━━━━━━━━━━━━━━━━━━━━╇━━━━━━━━━━━━━━━┩\n",
       "│ dense (\u001b[38;5;33mDense\u001b[0m)                   │ (\u001b[38;5;45mNone\u001b[0m, \u001b[38;5;34m7\u001b[0m)              │            \u001b[38;5;34m84\u001b[0m │\n",
       "├─────────────────────────────────┼────────────────────────┼───────────────┤\n",
       "│ dense_1 (\u001b[38;5;33mDense\u001b[0m)                 │ (\u001b[38;5;45mNone\u001b[0m, \u001b[38;5;34m3\u001b[0m)              │            \u001b[38;5;34m24\u001b[0m │\n",
       "├─────────────────────────────────┼────────────────────────┼───────────────┤\n",
       "│ dense_2 (\u001b[38;5;33mDense\u001b[0m)                 │ (\u001b[38;5;45mNone\u001b[0m, \u001b[38;5;34m1\u001b[0m)              │             \u001b[38;5;34m4\u001b[0m │\n",
       "└─────────────────────────────────┴────────────────────────┴───────────────┘\n"
      ]
     },
     "metadata": {},
     "output_type": "display_data"
    },
    {
     "data": {
      "text/html": [
       "<pre style=\"white-space:pre;overflow-x:auto;line-height:normal;font-family:Menlo,'DejaVu Sans Mono',consolas,'Courier New',monospace\"><span style=\"font-weight: bold\"> Total params: </span><span style=\"color: #00af00; text-decoration-color: #00af00\">112</span> (448.00 B)\n",
       "</pre>\n"
      ],
      "text/plain": [
       "\u001b[1m Total params: \u001b[0m\u001b[38;5;34m112\u001b[0m (448.00 B)\n"
      ]
     },
     "metadata": {},
     "output_type": "display_data"
    },
    {
     "data": {
      "text/html": [
       "<pre style=\"white-space:pre;overflow-x:auto;line-height:normal;font-family:Menlo,'DejaVu Sans Mono',consolas,'Courier New',monospace\"><span style=\"font-weight: bold\"> Trainable params: </span><span style=\"color: #00af00; text-decoration-color: #00af00\">112</span> (448.00 B)\n",
       "</pre>\n"
      ],
      "text/plain": [
       "\u001b[1m Trainable params: \u001b[0m\u001b[38;5;34m112\u001b[0m (448.00 B)\n"
      ]
     },
     "metadata": {},
     "output_type": "display_data"
    },
    {
     "data": {
      "text/html": [
       "<pre style=\"white-space:pre;overflow-x:auto;line-height:normal;font-family:Menlo,'DejaVu Sans Mono',consolas,'Courier New',monospace\"><span style=\"font-weight: bold\"> Non-trainable params: </span><span style=\"color: #00af00; text-decoration-color: #00af00\">0</span> (0.00 B)\n",
       "</pre>\n"
      ],
      "text/plain": [
       "\u001b[1m Non-trainable params: \u001b[0m\u001b[38;5;34m0\u001b[0m (0.00 B)\n"
      ]
     },
     "metadata": {},
     "output_type": "display_data"
    }
   ],
   "source": [
    "model.summary()"
   ]
  },
  {
   "cell_type": "code",
   "execution_count": 16,
   "id": "40926709",
   "metadata": {
    "execution": {
     "iopub.execute_input": "2025-09-08T06:15:28.087934Z",
     "iopub.status.busy": "2025-09-08T06:15:28.087605Z",
     "iopub.status.idle": "2025-09-08T06:15:28.102082Z",
     "shell.execute_reply": "2025-09-08T06:15:28.101250Z"
    },
    "papermill": {
     "duration": 0.022592,
     "end_time": "2025-09-08T06:15:28.103735",
     "exception": false,
     "start_time": "2025-09-08T06:15:28.081143",
     "status": "completed"
    },
    "tags": []
   },
   "outputs": [],
   "source": [
    "model.compile(loss='binary_crossentropy',optimizer='Adam',metrics=['accuracy'])"
   ]
  },
  {
   "cell_type": "code",
   "execution_count": 17,
   "id": "10571ea4",
   "metadata": {
    "execution": {
     "iopub.execute_input": "2025-09-08T06:15:28.116953Z",
     "iopub.status.busy": "2025-09-08T06:15:28.116215Z",
     "iopub.status.idle": "2025-09-08T06:16:11.076394Z",
     "shell.execute_reply": "2025-09-08T06:16:11.075420Z"
    },
    "papermill": {
     "duration": 42.968266,
     "end_time": "2025-09-08T06:16:11.077886",
     "exception": false,
     "start_time": "2025-09-08T06:15:28.109620",
     "status": "completed"
    },
    "tags": []
   },
   "outputs": [
    {
     "name": "stdout",
     "output_type": "stream",
     "text": [
      "Epoch 1/90\n",
      "\u001b[1m200/200\u001b[0m \u001b[32m━━━━━━━━━━━━━━━━━━━━\u001b[0m\u001b[37m\u001b[0m \u001b[1m3s\u001b[0m 3ms/step - accuracy: 0.7891 - loss: 0.6366 - val_accuracy: 0.7987 - val_loss: 0.5043\n",
      "Epoch 2/90\n",
      "\u001b[1m200/200\u001b[0m \u001b[32m━━━━━━━━━━━━━━━━━━━━\u001b[0m\u001b[37m\u001b[0m \u001b[1m0s\u001b[0m 2ms/step - accuracy: 0.7915 - loss: 0.5115 - val_accuracy: 0.7987 - val_loss: 0.4653\n",
      "Epoch 3/90\n",
      "\u001b[1m200/200\u001b[0m \u001b[32m━━━━━━━━━━━━━━━━━━━━\u001b[0m\u001b[37m\u001b[0m \u001b[1m0s\u001b[0m 2ms/step - accuracy: 0.7960 - loss: 0.4606 - val_accuracy: 0.7987 - val_loss: 0.4482\n",
      "Epoch 4/90\n",
      "\u001b[1m200/200\u001b[0m \u001b[32m━━━━━━━━━━━━━━━━━━━━\u001b[0m\u001b[37m\u001b[0m \u001b[1m0s\u001b[0m 2ms/step - accuracy: 0.7903 - loss: 0.4594 - val_accuracy: 0.7987 - val_loss: 0.4389\n",
      "Epoch 5/90\n",
      "\u001b[1m200/200\u001b[0m \u001b[32m━━━━━━━━━━━━━━━━━━━━\u001b[0m\u001b[37m\u001b[0m \u001b[1m0s\u001b[0m 2ms/step - accuracy: 0.7908 - loss: 0.4499 - val_accuracy: 0.7987 - val_loss: 0.4335\n",
      "Epoch 6/90\n",
      "\u001b[1m200/200\u001b[0m \u001b[32m━━━━━━━━━━━━━━━━━━━━\u001b[0m\u001b[37m\u001b[0m \u001b[1m0s\u001b[0m 2ms/step - accuracy: 0.7948 - loss: 0.4481 - val_accuracy: 0.7987 - val_loss: 0.4298\n",
      "Epoch 7/90\n",
      "\u001b[1m200/200\u001b[0m \u001b[32m━━━━━━━━━━━━━━━━━━━━\u001b[0m\u001b[37m\u001b[0m \u001b[1m0s\u001b[0m 2ms/step - accuracy: 0.7951 - loss: 0.4324 - val_accuracy: 0.7987 - val_loss: 0.4267\n",
      "Epoch 8/90\n",
      "\u001b[1m200/200\u001b[0m \u001b[32m━━━━━━━━━━━━━━━━━━━━\u001b[0m\u001b[37m\u001b[0m \u001b[1m0s\u001b[0m 2ms/step - accuracy: 0.7881 - loss: 0.4397 - val_accuracy: 0.7987 - val_loss: 0.4238\n",
      "Epoch 9/90\n",
      "\u001b[1m200/200\u001b[0m \u001b[32m━━━━━━━━━━━━━━━━━━━━\u001b[0m\u001b[37m\u001b[0m \u001b[1m0s\u001b[0m 2ms/step - accuracy: 0.7982 - loss: 0.4311 - val_accuracy: 0.7987 - val_loss: 0.4219\n",
      "Epoch 10/90\n",
      "\u001b[1m200/200\u001b[0m \u001b[32m━━━━━━━━━━━━━━━━━━━━\u001b[0m\u001b[37m\u001b[0m \u001b[1m0s\u001b[0m 2ms/step - accuracy: 0.8091 - loss: 0.4319 - val_accuracy: 0.8238 - val_loss: 0.4197\n",
      "Epoch 11/90\n",
      "\u001b[1m200/200\u001b[0m \u001b[32m━━━━━━━━━━━━━━━━━━━━\u001b[0m\u001b[37m\u001b[0m \u001b[1m0s\u001b[0m 2ms/step - accuracy: 0.8169 - loss: 0.4215 - val_accuracy: 0.8281 - val_loss: 0.4183\n",
      "Epoch 12/90\n",
      "\u001b[1m200/200\u001b[0m \u001b[32m━━━━━━━━━━━━━━━━━━━━\u001b[0m\u001b[37m\u001b[0m \u001b[1m0s\u001b[0m 2ms/step - accuracy: 0.8281 - loss: 0.4089 - val_accuracy: 0.8294 - val_loss: 0.4176\n",
      "Epoch 13/90\n",
      "\u001b[1m200/200\u001b[0m \u001b[32m━━━━━━━━━━━━━━━━━━━━\u001b[0m\u001b[37m\u001b[0m \u001b[1m0s\u001b[0m 2ms/step - accuracy: 0.8224 - loss: 0.4181 - val_accuracy: 0.8325 - val_loss: 0.4158\n",
      "Epoch 14/90\n",
      "\u001b[1m200/200\u001b[0m \u001b[32m━━━━━━━━━━━━━━━━━━━━\u001b[0m\u001b[37m\u001b[0m \u001b[1m0s\u001b[0m 2ms/step - accuracy: 0.8292 - loss: 0.4152 - val_accuracy: 0.8338 - val_loss: 0.4145\n",
      "Epoch 15/90\n",
      "\u001b[1m200/200\u001b[0m \u001b[32m━━━━━━━━━━━━━━━━━━━━\u001b[0m\u001b[37m\u001b[0m \u001b[1m0s\u001b[0m 2ms/step - accuracy: 0.8247 - loss: 0.4307 - val_accuracy: 0.8363 - val_loss: 0.4129\n",
      "Epoch 16/90\n",
      "\u001b[1m200/200\u001b[0m \u001b[32m━━━━━━━━━━━━━━━━━━━━\u001b[0m\u001b[37m\u001b[0m \u001b[1m0s\u001b[0m 2ms/step - accuracy: 0.8149 - loss: 0.4390 - val_accuracy: 0.8350 - val_loss: 0.4118\n",
      "Epoch 17/90\n",
      "\u001b[1m200/200\u001b[0m \u001b[32m━━━━━━━━━━━━━━━━━━━━\u001b[0m\u001b[37m\u001b[0m \u001b[1m0s\u001b[0m 2ms/step - accuracy: 0.8303 - loss: 0.4142 - val_accuracy: 0.8350 - val_loss: 0.4109\n",
      "Epoch 18/90\n",
      "\u001b[1m200/200\u001b[0m \u001b[32m━━━━━━━━━━━━━━━━━━━━\u001b[0m\u001b[37m\u001b[0m \u001b[1m0s\u001b[0m 2ms/step - accuracy: 0.8301 - loss: 0.4076 - val_accuracy: 0.8331 - val_loss: 0.4103\n",
      "Epoch 19/90\n",
      "\u001b[1m200/200\u001b[0m \u001b[32m━━━━━━━━━━━━━━━━━━━━\u001b[0m\u001b[37m\u001b[0m \u001b[1m0s\u001b[0m 2ms/step - accuracy: 0.8323 - loss: 0.4063 - val_accuracy: 0.8375 - val_loss: 0.4088\n",
      "Epoch 20/90\n",
      "\u001b[1m200/200\u001b[0m \u001b[32m━━━━━━━━━━━━━━━━━━━━\u001b[0m\u001b[37m\u001b[0m \u001b[1m0s\u001b[0m 2ms/step - accuracy: 0.8335 - loss: 0.4127 - val_accuracy: 0.8369 - val_loss: 0.4083\n",
      "Epoch 21/90\n",
      "\u001b[1m200/200\u001b[0m \u001b[32m━━━━━━━━━━━━━━━━━━━━\u001b[0m\u001b[37m\u001b[0m \u001b[1m0s\u001b[0m 2ms/step - accuracy: 0.8370 - loss: 0.4020 - val_accuracy: 0.8344 - val_loss: 0.4065\n",
      "Epoch 22/90\n",
      "\u001b[1m200/200\u001b[0m \u001b[32m━━━━━━━━━━━━━━━━━━━━\u001b[0m\u001b[37m\u001b[0m \u001b[1m0s\u001b[0m 2ms/step - accuracy: 0.8350 - loss: 0.4098 - val_accuracy: 0.8350 - val_loss: 0.4060\n",
      "Epoch 23/90\n",
      "\u001b[1m200/200\u001b[0m \u001b[32m━━━━━━━━━━━━━━━━━━━━\u001b[0m\u001b[37m\u001b[0m \u001b[1m0s\u001b[0m 2ms/step - accuracy: 0.8411 - loss: 0.3947 - val_accuracy: 0.8350 - val_loss: 0.4054\n",
      "Epoch 24/90\n",
      "\u001b[1m200/200\u001b[0m \u001b[32m━━━━━━━━━━━━━━━━━━━━\u001b[0m\u001b[37m\u001b[0m \u001b[1m0s\u001b[0m 2ms/step - accuracy: 0.8403 - loss: 0.3964 - val_accuracy: 0.8363 - val_loss: 0.4038\n",
      "Epoch 25/90\n",
      "\u001b[1m200/200\u001b[0m \u001b[32m━━━━━━━━━━━━━━━━━━━━\u001b[0m\u001b[37m\u001b[0m \u001b[1m0s\u001b[0m 2ms/step - accuracy: 0.8309 - loss: 0.4069 - val_accuracy: 0.8363 - val_loss: 0.4021\n",
      "Epoch 26/90\n",
      "\u001b[1m200/200\u001b[0m \u001b[32m━━━━━━━━━━━━━━━━━━━━\u001b[0m\u001b[37m\u001b[0m \u001b[1m0s\u001b[0m 2ms/step - accuracy: 0.8315 - loss: 0.4059 - val_accuracy: 0.8388 - val_loss: 0.4001\n",
      "Epoch 27/90\n",
      "\u001b[1m200/200\u001b[0m \u001b[32m━━━━━━━━━━━━━━━━━━━━\u001b[0m\u001b[37m\u001b[0m \u001b[1m0s\u001b[0m 2ms/step - accuracy: 0.8381 - loss: 0.4018 - val_accuracy: 0.8356 - val_loss: 0.3981\n",
      "Epoch 28/90\n",
      "\u001b[1m200/200\u001b[0m \u001b[32m━━━━━━━━━━━━━━━━━━━━\u001b[0m\u001b[37m\u001b[0m \u001b[1m0s\u001b[0m 2ms/step - accuracy: 0.8345 - loss: 0.3945 - val_accuracy: 0.8375 - val_loss: 0.3970\n",
      "Epoch 29/90\n",
      "\u001b[1m200/200\u001b[0m \u001b[32m━━━━━━━━━━━━━━━━━━━━\u001b[0m\u001b[37m\u001b[0m \u001b[1m0s\u001b[0m 2ms/step - accuracy: 0.8329 - loss: 0.3938 - val_accuracy: 0.8406 - val_loss: 0.3946\n",
      "Epoch 30/90\n",
      "\u001b[1m200/200\u001b[0m \u001b[32m━━━━━━━━━━━━━━━━━━━━\u001b[0m\u001b[37m\u001b[0m \u001b[1m0s\u001b[0m 2ms/step - accuracy: 0.8412 - loss: 0.3854 - val_accuracy: 0.8406 - val_loss: 0.3927\n",
      "Epoch 31/90\n",
      "\u001b[1m200/200\u001b[0m \u001b[32m━━━━━━━━━━━━━━━━━━━━\u001b[0m\u001b[37m\u001b[0m \u001b[1m0s\u001b[0m 2ms/step - accuracy: 0.8347 - loss: 0.3896 - val_accuracy: 0.8450 - val_loss: 0.3910\n",
      "Epoch 32/90\n",
      "\u001b[1m200/200\u001b[0m \u001b[32m━━━━━━━━━━━━━━━━━━━━\u001b[0m\u001b[37m\u001b[0m \u001b[1m0s\u001b[0m 2ms/step - accuracy: 0.8375 - loss: 0.3871 - val_accuracy: 0.8462 - val_loss: 0.3887\n",
      "Epoch 33/90\n",
      "\u001b[1m200/200\u001b[0m \u001b[32m━━━━━━━━━━━━━━━━━━━━\u001b[0m\u001b[37m\u001b[0m \u001b[1m0s\u001b[0m 2ms/step - accuracy: 0.8463 - loss: 0.3731 - val_accuracy: 0.8375 - val_loss: 0.3889\n",
      "Epoch 34/90\n",
      "\u001b[1m200/200\u001b[0m \u001b[32m━━━━━━━━━━━━━━━━━━━━\u001b[0m\u001b[37m\u001b[0m \u001b[1m0s\u001b[0m 2ms/step - accuracy: 0.8409 - loss: 0.3807 - val_accuracy: 0.8413 - val_loss: 0.3861\n",
      "Epoch 35/90\n",
      "\u001b[1m200/200\u001b[0m \u001b[32m━━━━━━━━━━━━━━━━━━━━\u001b[0m\u001b[37m\u001b[0m \u001b[1m0s\u001b[0m 2ms/step - accuracy: 0.8463 - loss: 0.3774 - val_accuracy: 0.8444 - val_loss: 0.3840\n",
      "Epoch 36/90\n",
      "\u001b[1m200/200\u001b[0m \u001b[32m━━━━━━━━━━━━━━━━━━━━\u001b[0m\u001b[37m\u001b[0m \u001b[1m0s\u001b[0m 2ms/step - accuracy: 0.8459 - loss: 0.3707 - val_accuracy: 0.8431 - val_loss: 0.3823\n",
      "Epoch 37/90\n",
      "\u001b[1m200/200\u001b[0m \u001b[32m━━━━━━━━━━━━━━━━━━━━\u001b[0m\u001b[37m\u001b[0m \u001b[1m0s\u001b[0m 2ms/step - accuracy: 0.8456 - loss: 0.3723 - val_accuracy: 0.8425 - val_loss: 0.3809\n",
      "Epoch 38/90\n",
      "\u001b[1m200/200\u001b[0m \u001b[32m━━━━━━━━━━━━━━━━━━━━\u001b[0m\u001b[37m\u001b[0m \u001b[1m0s\u001b[0m 2ms/step - accuracy: 0.8452 - loss: 0.3763 - val_accuracy: 0.8425 - val_loss: 0.3793\n",
      "Epoch 39/90\n",
      "\u001b[1m200/200\u001b[0m \u001b[32m━━━━━━━━━━━━━━━━━━━━\u001b[0m\u001b[37m\u001b[0m \u001b[1m0s\u001b[0m 2ms/step - accuracy: 0.8490 - loss: 0.3673 - val_accuracy: 0.8425 - val_loss: 0.3776\n",
      "Epoch 40/90\n",
      "\u001b[1m200/200\u001b[0m \u001b[32m━━━━━━━━━━━━━━━━━━━━\u001b[0m\u001b[37m\u001b[0m \u001b[1m0s\u001b[0m 2ms/step - accuracy: 0.8476 - loss: 0.3656 - val_accuracy: 0.8444 - val_loss: 0.3763\n",
      "Epoch 41/90\n",
      "\u001b[1m200/200\u001b[0m \u001b[32m━━━━━━━━━━━━━━━━━━━━\u001b[0m\u001b[37m\u001b[0m \u001b[1m0s\u001b[0m 2ms/step - accuracy: 0.8499 - loss: 0.3624 - val_accuracy: 0.8444 - val_loss: 0.3750\n",
      "Epoch 42/90\n",
      "\u001b[1m200/200\u001b[0m \u001b[32m━━━━━━━━━━━━━━━━━━━━\u001b[0m\u001b[37m\u001b[0m \u001b[1m0s\u001b[0m 2ms/step - accuracy: 0.8522 - loss: 0.3650 - val_accuracy: 0.8413 - val_loss: 0.3740\n",
      "Epoch 43/90\n",
      "\u001b[1m200/200\u001b[0m \u001b[32m━━━━━━━━━━━━━━━━━━━━\u001b[0m\u001b[37m\u001b[0m \u001b[1m0s\u001b[0m 2ms/step - accuracy: 0.8490 - loss: 0.3705 - val_accuracy: 0.8475 - val_loss: 0.3721\n",
      "Epoch 44/90\n",
      "\u001b[1m200/200\u001b[0m \u001b[32m━━━━━━━━━━━━━━━━━━━━\u001b[0m\u001b[37m\u001b[0m \u001b[1m0s\u001b[0m 2ms/step - accuracy: 0.8531 - loss: 0.3586 - val_accuracy: 0.8462 - val_loss: 0.3713\n",
      "Epoch 45/90\n",
      "\u001b[1m200/200\u001b[0m \u001b[32m━━━━━━━━━━━━━━━━━━━━\u001b[0m\u001b[37m\u001b[0m \u001b[1m0s\u001b[0m 2ms/step - accuracy: 0.8526 - loss: 0.3571 - val_accuracy: 0.8456 - val_loss: 0.3713\n",
      "Epoch 46/90\n",
      "\u001b[1m200/200\u001b[0m \u001b[32m━━━━━━━━━━━━━━━━━━━━\u001b[0m\u001b[37m\u001b[0m \u001b[1m0s\u001b[0m 2ms/step - accuracy: 0.8492 - loss: 0.3633 - val_accuracy: 0.8431 - val_loss: 0.3704\n",
      "Epoch 47/90\n",
      "\u001b[1m200/200\u001b[0m \u001b[32m━━━━━━━━━━━━━━━━━━━━\u001b[0m\u001b[37m\u001b[0m \u001b[1m0s\u001b[0m 2ms/step - accuracy: 0.8593 - loss: 0.3534 - val_accuracy: 0.8481 - val_loss: 0.3691\n",
      "Epoch 48/90\n",
      "\u001b[1m200/200\u001b[0m \u001b[32m━━━━━━━━━━━━━━━━━━━━\u001b[0m\u001b[37m\u001b[0m \u001b[1m0s\u001b[0m 2ms/step - accuracy: 0.8597 - loss: 0.3476 - val_accuracy: 0.8462 - val_loss: 0.3684\n",
      "Epoch 49/90\n",
      "\u001b[1m200/200\u001b[0m \u001b[32m━━━━━━━━━━━━━━━━━━━━\u001b[0m\u001b[37m\u001b[0m \u001b[1m0s\u001b[0m 2ms/step - accuracy: 0.8542 - loss: 0.3568 - val_accuracy: 0.8462 - val_loss: 0.3681\n",
      "Epoch 50/90\n",
      "\u001b[1m200/200\u001b[0m \u001b[32m━━━━━━━━━━━━━━━━━━━━\u001b[0m\u001b[37m\u001b[0m \u001b[1m0s\u001b[0m 2ms/step - accuracy: 0.8531 - loss: 0.3529 - val_accuracy: 0.8481 - val_loss: 0.3670\n",
      "Epoch 51/90\n",
      "\u001b[1m200/200\u001b[0m \u001b[32m━━━━━━━━━━━━━━━━━━━━\u001b[0m\u001b[37m\u001b[0m \u001b[1m0s\u001b[0m 2ms/step - accuracy: 0.8539 - loss: 0.3623 - val_accuracy: 0.8500 - val_loss: 0.3667\n",
      "Epoch 52/90\n",
      "\u001b[1m200/200\u001b[0m \u001b[32m━━━━━━━━━━━━━━━━━━━━\u001b[0m\u001b[37m\u001b[0m \u001b[1m0s\u001b[0m 2ms/step - accuracy: 0.8621 - loss: 0.3461 - val_accuracy: 0.8500 - val_loss: 0.3665\n",
      "Epoch 53/90\n",
      "\u001b[1m200/200\u001b[0m \u001b[32m━━━━━━━━━━━━━━━━━━━━\u001b[0m\u001b[37m\u001b[0m \u001b[1m0s\u001b[0m 2ms/step - accuracy: 0.8551 - loss: 0.3493 - val_accuracy: 0.8487 - val_loss: 0.3671\n",
      "Epoch 54/90\n",
      "\u001b[1m200/200\u001b[0m \u001b[32m━━━━━━━━━━━━━━━━━━━━\u001b[0m\u001b[37m\u001b[0m \u001b[1m0s\u001b[0m 2ms/step - accuracy: 0.8552 - loss: 0.3552 - val_accuracy: 0.8519 - val_loss: 0.3667\n",
      "Epoch 55/90\n",
      "\u001b[1m200/200\u001b[0m \u001b[32m━━━━━━━━━━━━━━━━━━━━\u001b[0m\u001b[37m\u001b[0m \u001b[1m0s\u001b[0m 2ms/step - accuracy: 0.8552 - loss: 0.3595 - val_accuracy: 0.8500 - val_loss: 0.3661\n",
      "Epoch 56/90\n",
      "\u001b[1m200/200\u001b[0m \u001b[32m━━━━━━━━━━━━━━━━━━━━\u001b[0m\u001b[37m\u001b[0m \u001b[1m0s\u001b[0m 2ms/step - accuracy: 0.8558 - loss: 0.3482 - val_accuracy: 0.8500 - val_loss: 0.3657\n",
      "Epoch 57/90\n",
      "\u001b[1m200/200\u001b[0m \u001b[32m━━━━━━━━━━━━━━━━━━━━\u001b[0m\u001b[37m\u001b[0m \u001b[1m0s\u001b[0m 2ms/step - accuracy: 0.8630 - loss: 0.3359 - val_accuracy: 0.8506 - val_loss: 0.3648\n",
      "Epoch 58/90\n",
      "\u001b[1m200/200\u001b[0m \u001b[32m━━━━━━━━━━━━━━━━━━━━\u001b[0m\u001b[37m\u001b[0m \u001b[1m0s\u001b[0m 2ms/step - accuracy: 0.8637 - loss: 0.3419 - val_accuracy: 0.8531 - val_loss: 0.3643\n",
      "Epoch 59/90\n",
      "\u001b[1m200/200\u001b[0m \u001b[32m━━━━━━━━━━━━━━━━━━━━\u001b[0m\u001b[37m\u001b[0m \u001b[1m0s\u001b[0m 2ms/step - accuracy: 0.8541 - loss: 0.3523 - val_accuracy: 0.8512 - val_loss: 0.3643\n",
      "Epoch 60/90\n",
      "\u001b[1m200/200\u001b[0m \u001b[32m━━━━━━━━━━━━━━━━━━━━\u001b[0m\u001b[37m\u001b[0m \u001b[1m0s\u001b[0m 2ms/step - accuracy: 0.8597 - loss: 0.3467 - val_accuracy: 0.8519 - val_loss: 0.3660\n",
      "Epoch 61/90\n",
      "\u001b[1m200/200\u001b[0m \u001b[32m━━━━━━━━━━━━━━━━━━━━\u001b[0m\u001b[37m\u001b[0m \u001b[1m0s\u001b[0m 2ms/step - accuracy: 0.8624 - loss: 0.3398 - val_accuracy: 0.8500 - val_loss: 0.3638\n",
      "Epoch 62/90\n",
      "\u001b[1m200/200\u001b[0m \u001b[32m━━━━━━━━━━━━━━━━━━━━\u001b[0m\u001b[37m\u001b[0m \u001b[1m0s\u001b[0m 2ms/step - accuracy: 0.8633 - loss: 0.3457 - val_accuracy: 0.8487 - val_loss: 0.3635\n",
      "Epoch 63/90\n",
      "\u001b[1m200/200\u001b[0m \u001b[32m━━━━━━━━━━━━━━━━━━━━\u001b[0m\u001b[37m\u001b[0m \u001b[1m0s\u001b[0m 2ms/step - accuracy: 0.8534 - loss: 0.3540 - val_accuracy: 0.8500 - val_loss: 0.3639\n",
      "Epoch 64/90\n",
      "\u001b[1m200/200\u001b[0m \u001b[32m━━━━━━━━━━━━━━━━━━━━\u001b[0m\u001b[37m\u001b[0m \u001b[1m0s\u001b[0m 2ms/step - accuracy: 0.8487 - loss: 0.3565 - val_accuracy: 0.8494 - val_loss: 0.3635\n",
      "Epoch 65/90\n",
      "\u001b[1m200/200\u001b[0m \u001b[32m━━━━━━━━━━━━━━━━━━━━\u001b[0m\u001b[37m\u001b[0m \u001b[1m0s\u001b[0m 2ms/step - accuracy: 0.8531 - loss: 0.3463 - val_accuracy: 0.8481 - val_loss: 0.3623\n",
      "Epoch 66/90\n",
      "\u001b[1m200/200\u001b[0m \u001b[32m━━━━━━━━━━━━━━━━━━━━\u001b[0m\u001b[37m\u001b[0m \u001b[1m0s\u001b[0m 2ms/step - accuracy: 0.8622 - loss: 0.3420 - val_accuracy: 0.8512 - val_loss: 0.3633\n",
      "Epoch 67/90\n",
      "\u001b[1m200/200\u001b[0m \u001b[32m━━━━━━━━━━━━━━━━━━━━\u001b[0m\u001b[37m\u001b[0m \u001b[1m0s\u001b[0m 2ms/step - accuracy: 0.8650 - loss: 0.3437 - val_accuracy: 0.8537 - val_loss: 0.3622\n",
      "Epoch 68/90\n",
      "\u001b[1m200/200\u001b[0m \u001b[32m━━━━━━━━━━━━━━━━━━━━\u001b[0m\u001b[37m\u001b[0m \u001b[1m0s\u001b[0m 2ms/step - accuracy: 0.8488 - loss: 0.3556 - val_accuracy: 0.8525 - val_loss: 0.3616\n",
      "Epoch 69/90\n",
      "\u001b[1m200/200\u001b[0m \u001b[32m━━━━━━━━━━━━━━━━━━━━\u001b[0m\u001b[37m\u001b[0m \u001b[1m0s\u001b[0m 2ms/step - accuracy: 0.8637 - loss: 0.3344 - val_accuracy: 0.8512 - val_loss: 0.3608\n",
      "Epoch 70/90\n",
      "\u001b[1m200/200\u001b[0m \u001b[32m━━━━━━━━━━━━━━━━━━━━\u001b[0m\u001b[37m\u001b[0m \u001b[1m0s\u001b[0m 2ms/step - accuracy: 0.8580 - loss: 0.3479 - val_accuracy: 0.8475 - val_loss: 0.3612\n",
      "Epoch 71/90\n",
      "\u001b[1m200/200\u001b[0m \u001b[32m━━━━━━━━━━━━━━━━━━━━\u001b[0m\u001b[37m\u001b[0m \u001b[1m0s\u001b[0m 2ms/step - accuracy: 0.8550 - loss: 0.3450 - val_accuracy: 0.8494 - val_loss: 0.3610\n",
      "Epoch 72/90\n",
      "\u001b[1m200/200\u001b[0m \u001b[32m━━━━━━━━━━━━━━━━━━━━\u001b[0m\u001b[37m\u001b[0m \u001b[1m0s\u001b[0m 2ms/step - accuracy: 0.8690 - loss: 0.3287 - val_accuracy: 0.8481 - val_loss: 0.3622\n",
      "Epoch 73/90\n",
      "\u001b[1m200/200\u001b[0m \u001b[32m━━━━━━━━━━━━━━━━━━━━\u001b[0m\u001b[37m\u001b[0m \u001b[1m0s\u001b[0m 2ms/step - accuracy: 0.8548 - loss: 0.3486 - val_accuracy: 0.8569 - val_loss: 0.3616\n",
      "Epoch 74/90\n",
      "\u001b[1m200/200\u001b[0m \u001b[32m━━━━━━━━━━━━━━━━━━━━\u001b[0m\u001b[37m\u001b[0m \u001b[1m0s\u001b[0m 2ms/step - accuracy: 0.8684 - loss: 0.3293 - val_accuracy: 0.8500 - val_loss: 0.3601\n",
      "Epoch 75/90\n",
      "\u001b[1m200/200\u001b[0m \u001b[32m━━━━━━━━━━━━━━━━━━━━\u001b[0m\u001b[37m\u001b[0m \u001b[1m0s\u001b[0m 2ms/step - accuracy: 0.8605 - loss: 0.3421 - val_accuracy: 0.8556 - val_loss: 0.3598\n",
      "Epoch 76/90\n",
      "\u001b[1m200/200\u001b[0m \u001b[32m━━━━━━━━━━━━━━━━━━━━\u001b[0m\u001b[37m\u001b[0m \u001b[1m0s\u001b[0m 2ms/step - accuracy: 0.8606 - loss: 0.3485 - val_accuracy: 0.8506 - val_loss: 0.3591\n",
      "Epoch 77/90\n",
      "\u001b[1m200/200\u001b[0m \u001b[32m━━━━━━━━━━━━━━━━━━━━\u001b[0m\u001b[37m\u001b[0m \u001b[1m0s\u001b[0m 2ms/step - accuracy: 0.8574 - loss: 0.3462 - val_accuracy: 0.8537 - val_loss: 0.3599\n",
      "Epoch 78/90\n",
      "\u001b[1m200/200\u001b[0m \u001b[32m━━━━━━━━━━━━━━━━━━━━\u001b[0m\u001b[37m\u001b[0m \u001b[1m0s\u001b[0m 2ms/step - accuracy: 0.8593 - loss: 0.3372 - val_accuracy: 0.8512 - val_loss: 0.3596\n",
      "Epoch 79/90\n",
      "\u001b[1m200/200\u001b[0m \u001b[32m━━━━━━━━━━━━━━━━━━━━\u001b[0m\u001b[37m\u001b[0m \u001b[1m0s\u001b[0m 2ms/step - accuracy: 0.8626 - loss: 0.3383 - val_accuracy: 0.8487 - val_loss: 0.3590\n",
      "Epoch 80/90\n",
      "\u001b[1m200/200\u001b[0m \u001b[32m━━━━━━━━━━━━━━━━━━━━\u001b[0m\u001b[37m\u001b[0m \u001b[1m0s\u001b[0m 2ms/step - accuracy: 0.8622 - loss: 0.3357 - val_accuracy: 0.8512 - val_loss: 0.3581\n",
      "Epoch 81/90\n",
      "\u001b[1m200/200\u001b[0m \u001b[32m━━━━━━━━━━━━━━━━━━━━\u001b[0m\u001b[37m\u001b[0m \u001b[1m0s\u001b[0m 2ms/step - accuracy: 0.8532 - loss: 0.3434 - val_accuracy: 0.8519 - val_loss: 0.3587\n",
      "Epoch 82/90\n",
      "\u001b[1m200/200\u001b[0m \u001b[32m━━━━━━━━━━━━━━━━━━━━\u001b[0m\u001b[37m\u001b[0m \u001b[1m0s\u001b[0m 2ms/step - accuracy: 0.8568 - loss: 0.3422 - val_accuracy: 0.8525 - val_loss: 0.3592\n",
      "Epoch 83/90\n",
      "\u001b[1m200/200\u001b[0m \u001b[32m━━━━━━━━━━━━━━━━━━━━\u001b[0m\u001b[37m\u001b[0m \u001b[1m0s\u001b[0m 2ms/step - accuracy: 0.8577 - loss: 0.3425 - val_accuracy: 0.8525 - val_loss: 0.3588\n",
      "Epoch 84/90\n",
      "\u001b[1m200/200\u001b[0m \u001b[32m━━━━━━━━━━━━━━━━━━━━\u001b[0m\u001b[37m\u001b[0m \u001b[1m0s\u001b[0m 2ms/step - accuracy: 0.8591 - loss: 0.3337 - val_accuracy: 0.8506 - val_loss: 0.3594\n",
      "Epoch 85/90\n",
      "\u001b[1m200/200\u001b[0m \u001b[32m━━━━━━━━━━━━━━━━━━━━\u001b[0m\u001b[37m\u001b[0m \u001b[1m0s\u001b[0m 2ms/step - accuracy: 0.8560 - loss: 0.3487 - val_accuracy: 0.8519 - val_loss: 0.3575\n",
      "Epoch 86/90\n",
      "\u001b[1m200/200\u001b[0m \u001b[32m━━━━━━━━━━━━━━━━━━━━\u001b[0m\u001b[37m\u001b[0m \u001b[1m0s\u001b[0m 2ms/step - accuracy: 0.8616 - loss: 0.3383 - val_accuracy: 0.8531 - val_loss: 0.3577\n",
      "Epoch 87/90\n",
      "\u001b[1m200/200\u001b[0m \u001b[32m━━━━━━━━━━━━━━━━━━━━\u001b[0m\u001b[37m\u001b[0m \u001b[1m0s\u001b[0m 2ms/step - accuracy: 0.8693 - loss: 0.3234 - val_accuracy: 0.8512 - val_loss: 0.3586\n",
      "Epoch 88/90\n",
      "\u001b[1m200/200\u001b[0m \u001b[32m━━━━━━━━━━━━━━━━━━━━\u001b[0m\u001b[37m\u001b[0m \u001b[1m0s\u001b[0m 2ms/step - accuracy: 0.8628 - loss: 0.3377 - val_accuracy: 0.8531 - val_loss: 0.3578\n",
      "Epoch 89/90\n",
      "\u001b[1m200/200\u001b[0m \u001b[32m━━━━━━━━━━━━━━━━━━━━\u001b[0m\u001b[37m\u001b[0m \u001b[1m0s\u001b[0m 2ms/step - accuracy: 0.8635 - loss: 0.3352 - val_accuracy: 0.8512 - val_loss: 0.3584\n",
      "Epoch 90/90\n",
      "\u001b[1m200/200\u001b[0m \u001b[32m━━━━━━━━━━━━━━━━━━━━\u001b[0m\u001b[37m\u001b[0m \u001b[1m0s\u001b[0m 2ms/step - accuracy: 0.8591 - loss: 0.3469 - val_accuracy: 0.8506 - val_loss: 0.3585\n"
     ]
    }
   ],
   "source": [
    "histroy=model.fit(X_train_scaled,Y_train,epochs=90,validation_split=0.2)"
   ]
  },
  {
   "cell_type": "code",
   "execution_count": 18,
   "id": "f449353e",
   "metadata": {
    "execution": {
     "iopub.execute_input": "2025-09-08T06:16:11.162195Z",
     "iopub.status.busy": "2025-09-08T06:16:11.161846Z",
     "iopub.status.idle": "2025-09-08T06:16:11.172279Z",
     "shell.execute_reply": "2025-09-08T06:16:11.171478Z"
    },
    "papermill": {
     "duration": 0.053795,
     "end_time": "2025-09-08T06:16:11.173640",
     "exception": false,
     "start_time": "2025-09-08T06:16:11.119845",
     "status": "completed"
    },
    "tags": []
   },
   "outputs": [
    {
     "data": {
      "text/plain": [
       "[array([[ 2.91464720e-02,  4.30041105e-02, -7.13134417e-03,\n",
       "         -3.00866142e-02,  1.56287402e-01,  3.49265896e-02,\n",
       "          7.61606097e-02],\n",
       "        [ 1.65806189e-01, -3.07983230e-03, -5.05927026e-01,\n",
       "         -1.36139572e-01, -9.16672349e-01,  9.33588862e-01,\n",
       "         -2.25226238e-01],\n",
       "        [ 1.38613537e-01,  7.95797408e-02, -6.75766096e-02,\n",
       "          2.01906607e-01, -3.60986918e-01,  1.58344060e-01,\n",
       "          4.40493971e-02],\n",
       "        [ 1.27153933e-01, -4.22306985e-01, -3.09672691e-02,\n",
       "          1.62532270e-01, -3.06235075e-01, -4.45270628e-01,\n",
       "         -4.54212546e-01],\n",
       "        [-6.25190914e-01, -1.60985589e+00, -4.97667253e-01,\n",
       "         -4.16161537e-01, -2.15617627e-01, -7.56272733e-01,\n",
       "         -5.64247966e-01],\n",
       "        [ 6.86355457e-02,  1.01337703e-02, -2.39369329e-02,\n",
       "         -2.34515771e-01,  1.10172786e-01,  1.39568187e-03,\n",
       "          5.79785593e-02],\n",
       "        [ 8.43614280e-01,  9.64089632e-02, -2.12128103e-01,\n",
       "         -6.71999574e-01,  4.30669367e-01,  3.45652759e-01,\n",
       "          2.66335309e-01],\n",
       "        [ 5.51426969e-02, -3.08518633e-02,  5.50255068e-02,\n",
       "         -2.04810977e-01,  1.07005641e-01, -1.12802505e-01,\n",
       "         -8.86113569e-02],\n",
       "        [ 2.94368297e-01, -1.34422136e-02,  1.26447842e-01,\n",
       "         -4.64098483e-01,  1.23445049e-01, -6.61569595e-01,\n",
       "         -4.71227825e-01],\n",
       "        [-1.46730974e-01, -2.77019471e-01, -1.22356713e+00,\n",
       "          2.80859262e-01,  1.99448556e-01,  1.51813507e-01,\n",
       "          2.83525258e-01],\n",
       "        [ 5.06617464e-02,  8.23002309e-02,  2.02694768e-03,\n",
       "         -2.55446006e-02, -4.36107188e-01,  1.35437012e-01,\n",
       "          2.22453609e-01]], dtype=float32),\n",
       " array([ 0.40903386,  0.54161376,  0.63233733,  0.08249632,  0.14925776,\n",
       "        -0.6665502 ,  1.0608804 ], dtype=float32)]"
      ]
     },
     "execution_count": 18,
     "metadata": {},
     "output_type": "execute_result"
    }
   ],
   "source": [
    "model.layers[0].get_weights()"
   ]
  },
  {
   "cell_type": "code",
   "execution_count": 19,
   "id": "3a6c8b30",
   "metadata": {
    "execution": {
     "iopub.execute_input": "2025-09-08T06:16:11.321320Z",
     "iopub.status.busy": "2025-09-08T06:16:11.320993Z",
     "iopub.status.idle": "2025-09-08T06:16:11.329531Z",
     "shell.execute_reply": "2025-09-08T06:16:11.328769Z"
    },
    "papermill": {
     "duration": 0.116187,
     "end_time": "2025-09-08T06:16:11.330928",
     "exception": false,
     "start_time": "2025-09-08T06:16:11.214741",
     "status": "completed"
    },
    "tags": []
   },
   "outputs": [
    {
     "data": {
      "text/plain": [
       "[array([[ 0.44167072,  0.25864023,  0.38288194],\n",
       "        [-1.003609  , -0.76324505, -0.5014272 ],\n",
       "        [ 0.7892581 ,  0.5732766 ,  0.5620563 ],\n",
       "        [-0.01345343,  0.48890644, -0.7036055 ],\n",
       "        [ 0.5592403 , -0.4452646 , -1.325945  ],\n",
       "        [ 0.2533098 , -0.5078536 ,  0.97982216],\n",
       "        [ 0.6352404 ,  0.89708567, -0.6318817 ]], dtype=float32),\n",
       " array([-2.0226398e-04, -1.4814911e-03, -3.4559080e-01], dtype=float32)]"
      ]
     },
     "execution_count": 19,
     "metadata": {},
     "output_type": "execute_result"
    }
   ],
   "source": [
    "model.layers[1].get_weights()"
   ]
  },
  {
   "cell_type": "code",
   "execution_count": 20,
   "id": "38c5e3a9",
   "metadata": {
    "execution": {
     "iopub.execute_input": "2025-09-08T06:16:11.416946Z",
     "iopub.status.busy": "2025-09-08T06:16:11.416215Z",
     "iopub.status.idle": "2025-09-08T06:16:11.697877Z",
     "shell.execute_reply": "2025-09-08T06:16:11.696964Z"
    },
    "papermill": {
     "duration": 0.326814,
     "end_time": "2025-09-08T06:16:11.699445",
     "exception": false,
     "start_time": "2025-09-08T06:16:11.372631",
     "status": "completed"
    },
    "tags": []
   },
   "outputs": [
    {
     "name": "stdout",
     "output_type": "stream",
     "text": [
      "\u001b[1m63/63\u001b[0m \u001b[32m━━━━━━━━━━━━━━━━━━━━\u001b[0m\u001b[37m\u001b[0m \u001b[1m0s\u001b[0m 2ms/step\n"
     ]
    }
   ],
   "source": [
    "Y_log=model.predict(X_test_scaled)"
   ]
  },
  {
   "cell_type": "code",
   "execution_count": 21,
   "id": "135888a2",
   "metadata": {
    "execution": {
     "iopub.execute_input": "2025-09-08T06:16:11.786336Z",
     "iopub.status.busy": "2025-09-08T06:16:11.785587Z",
     "iopub.status.idle": "2025-09-08T06:16:11.790831Z",
     "shell.execute_reply": "2025-09-08T06:16:11.789874Z"
    },
    "papermill": {
     "duration": 0.050396,
     "end_time": "2025-09-08T06:16:11.792310",
     "exception": false,
     "start_time": "2025-09-08T06:16:11.741914",
     "status": "completed"
    },
    "tags": []
   },
   "outputs": [],
   "source": [
    "Y_pred=np.where(Y_log>0.5,1,0)"
   ]
  },
  {
   "cell_type": "code",
   "execution_count": 22,
   "id": "1870031f",
   "metadata": {
    "execution": {
     "iopub.execute_input": "2025-09-08T06:16:11.877257Z",
     "iopub.status.busy": "2025-09-08T06:16:11.876970Z",
     "iopub.status.idle": "2025-09-08T06:16:11.884384Z",
     "shell.execute_reply": "2025-09-08T06:16:11.883553Z"
    },
    "papermill": {
     "duration": 0.051765,
     "end_time": "2025-09-08T06:16:11.885648",
     "exception": false,
     "start_time": "2025-09-08T06:16:11.833883",
     "status": "completed"
    },
    "tags": []
   },
   "outputs": [
    {
     "data": {
      "text/plain": [
       "0.8655"
      ]
     },
     "execution_count": 22,
     "metadata": {},
     "output_type": "execute_result"
    }
   ],
   "source": [
    "from sklearn.metrics import accuracy_score\n",
    "accuracy_score(Y_test,Y_pred)"
   ]
  },
  {
   "cell_type": "code",
   "execution_count": 23,
   "id": "67fb7490",
   "metadata": {
    "execution": {
     "iopub.execute_input": "2025-09-08T06:16:11.970974Z",
     "iopub.status.busy": "2025-09-08T06:16:11.970623Z",
     "iopub.status.idle": "2025-09-08T06:16:11.974693Z",
     "shell.execute_reply": "2025-09-08T06:16:11.973993Z"
    },
    "papermill": {
     "duration": 0.048262,
     "end_time": "2025-09-08T06:16:11.976193",
     "exception": false,
     "start_time": "2025-09-08T06:16:11.927931",
     "status": "completed"
    },
    "tags": []
   },
   "outputs": [],
   "source": [
    "import matplotlib.pyplot as plt"
   ]
  },
  {
   "cell_type": "code",
   "execution_count": 24,
   "id": "092fe50d",
   "metadata": {
    "execution": {
     "iopub.execute_input": "2025-09-08T06:16:12.062091Z",
     "iopub.status.busy": "2025-09-08T06:16:12.061730Z",
     "iopub.status.idle": "2025-09-08T06:16:12.292720Z",
     "shell.execute_reply": "2025-09-08T06:16:12.291719Z"
    },
    "papermill": {
     "duration": 0.275772,
     "end_time": "2025-09-08T06:16:12.294220",
     "exception": false,
     "start_time": "2025-09-08T06:16:12.018448",
     "status": "completed"
    },
    "tags": []
   },
   "outputs": [
    {
     "data": {
      "text/plain": [
       "[<matplotlib.lines.Line2D at 0x796f94104050>]"
      ]
     },
     "execution_count": 24,
     "metadata": {},
     "output_type": "execute_result"
    },
    {
     "data": {
      "image/png": "[encoded data removed]",
      "text/plain": [
       "<Figure size 640x480 with 1 Axes>"
      ]
     },
     "metadata": {},
     "output_type": "display_data"
    }
   ],
   "source": [
    "plt.plot(histroy.history['loss'])\n",
    "plt.plot(histroy.history['val_loss'])"
   ]
  },
  {
   "cell_type": "code",
   "execution_count": null,
   "id": "ed7fde7a",
   "metadata": {
    "papermill": {
     "duration": 0.042284,
     "end_time": "2025-09-08T06:16:12.381795",
     "exception": false,
     "start_time": "2025-09-08T06:16:12.339511",
     "status": "completed"
    },
    "tags": []
   },
   "outputs": [],
   "source": []
  }
 ],
 "metadata": {
  "kaggle": {
   "accelerator": "none",
   "dataSources": [
    {
     "datasetId": 869651,
     "sourceId": 1481789,
     "sourceType": "datasetVersion"
    }
   ],
   "dockerImageVersionId": 31089,
   "isGpuEnabled": false,
   "isInternetEnabled": false,
   "language": "python",
   "sourceType": "notebook"
  },
  "kernelspec": {
   "display_name": "Python 3",
   "language": "python",
   "name": "python3"
  },
  "language_info": {
   "codemirror_mode": {
    "name": "ipython",
    "version": 3
   },
   "file_extension": ".py",
   "mimetype": "text/x-python",
   "name": "python",
   "nbconvert_exporter": "python",
   "pygments_lexer": "ipython3",
   "version": "3.11.13"
  },
  "papermill": {
   "default_parameters": {},
   "duration": 71.585697,
   "end_time": "2025-09-08T06:16:15.780446",
   "environment_variables": {},
   "exception": null,
   "input_path": "__notebook__.ipynb",
   "output_path": "__notebook__.ipynb",
   "parameters": {},
   "start_time": "2025-09-08T06:15:04.194749",
   "version": "2.6.0"
  }
 },
 "nbformat": 4,
 "nbformat_minor": 5
}
